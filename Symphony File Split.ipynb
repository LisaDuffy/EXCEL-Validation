{
 "cells": [
  {
   "cell_type": "code",
   "execution_count": 1,
   "id": "1ba9a36b",
   "metadata": {},
   "outputs": [],
   "source": [
    "import pandas as pd\n",
    "\n",
    "#csv file name to be read in \n",
    "in_csv = 'Symphony_JAN22.csv'\n",
    "\n",
    "#get the number of lines of the csv file to be read\n",
    "number_lines = sum(1 for row in (open(in_csv)))\n",
    "\n",
    "#size of rows of data to write to the csv \n",
    "rowsize = 87134\n",
    "\n",
    "#start looping through data writing it to a new file for each set\n",
    "for i in range(1,number_lines,rowsize):\n",
    "    df = pd.read_csv(in_csv,\n",
    "          header=None,\n",
    "          nrows = rowsize,#number of rows to read at each loop\n",
    "          skiprows = i)#skip rows that have been read\n",
    "\n",
    "\n",
    "    #csv to write data to a new file with indexed name. input_1.csv etc.\n",
    "    out_csv = 'input' + str(i) + '.csv'\n",
    "    df.to_csv(out_csv,index=False,header=False,mode='a',chunksize=rowsize)\n",
    "\n",
    "\n"
   ]
  },
  {
   "cell_type": "code",
   "execution_count": null,
   "id": "bb7a0465",
   "metadata": {},
   "outputs": [],
   "source": []
  }
 ],
 "metadata": {
  "kernelspec": {
   "display_name": "Python 3",
   "language": "python",
   "name": "python3"
  },
  "language_info": {
   "codemirror_mode": {
    "name": "ipython",
    "version": 3
   },
   "file_extension": ".py",
   "mimetype": "text/x-python",
   "name": "python",
   "nbconvert_exporter": "python",
   "pygments_lexer": "ipython3",
   "version": "3.8.8"
  }
 },
 "nbformat": 4,
 "nbformat_minor": 5
}
